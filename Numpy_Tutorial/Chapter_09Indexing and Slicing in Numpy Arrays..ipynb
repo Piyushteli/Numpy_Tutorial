{
 "cells": [
  {
   "cell_type": "markdown",
   "id": "38a7083e",
   "metadata": {},
   "source": [
    "# Indexing and Slicing in Numpy Arrays."
   ]
  },
  {
   "cell_type": "code",
   "execution_count": 2,
   "id": "b52eb93a",
   "metadata": {},
   "outputs": [
    {
     "name": "stdout",
     "output_type": "stream",
     "text": [
      "9\n",
      "\n",
      "10\n",
      "\n",
      "9\n"
     ]
    }
   ],
   "source": [
    "import numpy as np \n",
    "var=np.array([6,7,8,9,10])\n",
    "print(var[3])\n",
    "print()\n",
    "print(var[4])\n",
    "print()\n",
    "print(var[-2])\n"
   ]
  },
  {
   "cell_type": "markdown",
   "id": "7faf6a0a",
   "metadata": {},
   "source": [
    "# 2-Dimension Array."
   ]
  },
  {
   "cell_type": "code",
   "execution_count": 7,
   "id": "786926cc",
   "metadata": {},
   "outputs": [
    {
     "name": "stdout",
     "output_type": "stream",
     "text": [
      "[[ 1  2  3  4  5]\n",
      " [ 6  7  8  9 10]]\n",
      "\n",
      "9\n",
      "5\n"
     ]
    }
   ],
   "source": [
    "var2=np.array([[1,2,3,4,5],[6,7,8,9,10]])\n",
    "print(var2)\n",
    "print()\n",
    "print(var2[1,3])\n",
    "print(var2[0,4])\n"
   ]
  },
  {
   "cell_type": "markdown",
   "id": "81f8d2d1",
   "metadata": {},
   "source": [
    "# 3-Dimension Array."
   ]
  },
  {
   "cell_type": "code",
   "execution_count": 13,
   "id": "d4d35902",
   "metadata": {},
   "outputs": [
    {
     "name": "stdout",
     "output_type": "stream",
     "text": [
      "[[[ 6  7  8  9 10]\n",
      "  [11 12 13 14 15]\n",
      "  [21 22 23 24 25]]]\n",
      "\n",
      "12\n"
     ]
    }
   ],
   "source": [
    "var3=np.array([[[6,7,8,9,10],[11,12,13,14,15],[21,22,23,24,25]]])\n",
    "print(var3)\n",
    "print()\n",
    "print(var3[0,1,1])"
   ]
  },
  {
   "cell_type": "markdown",
   "id": "c15882b0",
   "metadata": {},
   "source": [
    "# Slicing Numpy Arrays."
   ]
  },
  {
   "cell_type": "code",
   "execution_count": 19,
   "id": "ea486d63",
   "metadata": {},
   "outputs": [
    {
     "name": "stdout",
     "output_type": "stream",
     "text": [
      "[101 102 103 104 105]\n",
      "\n",
      "[102 103 104]\n",
      "\n",
      "[101 102 103 104 105]\n",
      "\n",
      "[101 102 103]\n",
      "\n",
      "[102 103 104 105]\n"
     ]
    }
   ],
   "source": [
    "import numpy as np\n",
    "var=np.array([101,102,103,104,105])\n",
    "print(var)\n",
    "print()\n",
    "print(var[1:4])\n",
    "print()\n",
    "print(var[:])\n",
    "print()\n",
    "print(var[:3])\n",
    "print()\n",
    "print(var[1:])"
   ]
  },
  {
   "cell_type": "markdown",
   "id": "4f14ec02",
   "metadata": {},
   "source": [
    "# 2-Dimension Array."
   ]
  },
  {
   "cell_type": "code",
   "execution_count": 21,
   "id": "3dc2cc9f",
   "metadata": {},
   "outputs": [
    {
     "name": "stdout",
     "output_type": "stream",
     "text": [
      "[[ 1  2  3  4  5]\n",
      " [ 6  7  8  9 10]]\n",
      "\n",
      "[2 3]\n",
      "[6 7 8 9]\n"
     ]
    }
   ],
   "source": [
    "var2=np.array([[1,2,3,4,5],[6,7,8,9,10]])\n",
    "print(var2)\n",
    "print()\n",
    "print(var2[0,1:3])\n",
    "print(var2[1,0:4])\n"
   ]
  },
  {
   "cell_type": "code",
   "execution_count": null,
   "id": "480ba75c",
   "metadata": {},
   "outputs": [],
   "source": []
  }
 ],
 "metadata": {
  "kernelspec": {
   "display_name": "Python 3 (ipykernel)",
   "language": "python",
   "name": "python3"
  },
  "language_info": {
   "codemirror_mode": {
    "name": "ipython",
    "version": 3
   },
   "file_extension": ".py",
   "mimetype": "text/x-python",
   "name": "python",
   "nbconvert_exporter": "python",
   "pygments_lexer": "ipython3",
   "version": "3.11.4"
  }
 },
 "nbformat": 4,
 "nbformat_minor": 5
}
