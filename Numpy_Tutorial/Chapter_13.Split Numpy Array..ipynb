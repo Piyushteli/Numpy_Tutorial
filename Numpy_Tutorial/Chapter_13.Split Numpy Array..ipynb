{
 "cells": [
  {
   "cell_type": "markdown",
   "id": "5551e20e",
   "metadata": {},
   "source": [
    "# Split() Function."
   ]
  },
  {
   "cell_type": "markdown",
   "id": "4ff3a54d",
   "metadata": {},
   "source": [
    "# 1-Dimension Array."
   ]
  },
  {
   "cell_type": "code",
   "execution_count": 1,
   "id": "f9a3bf9a",
   "metadata": {},
   "outputs": [
    {
     "name": "stdout",
     "output_type": "stream",
     "text": [
      "[1 2 3 4 5 6]\n",
      "\n",
      "[array([1, 2]), array([3, 4]), array([5, 6])]\n"
     ]
    }
   ],
   "source": [
    "import numpy as np\n",
    "var1=np.array([1,2,3,4,5,6])\n",
    "print(var1)\n",
    "print()\n",
    "ar=np.array_split(var1,3)\n",
    "print(ar)"
   ]
  },
  {
   "cell_type": "code",
   "execution_count": 2,
   "id": "46a22787",
   "metadata": {},
   "outputs": [
    {
     "name": "stdout",
     "output_type": "stream",
     "text": [
      "[5 6]\n"
     ]
    }
   ],
   "source": [
    "print(ar[2])"
   ]
  },
  {
   "cell_type": "markdown",
   "id": "ca4160e8",
   "metadata": {},
   "source": [
    "# 2-Dimesion Arrays."
   ]
  },
  {
   "cell_type": "code",
   "execution_count": 5,
   "id": "52e4b9ad",
   "metadata": {},
   "outputs": [
    {
     "name": "stdout",
     "output_type": "stream",
     "text": [
      "[[1 2]\n",
      " [3 4]\n",
      " [5 6]]\n",
      "\n",
      "[array([[1, 2],\n",
      "       [3, 4]]), array([[5, 6]])]\n",
      "\n"
     ]
    }
   ],
   "source": [
    "import numpy as np\n",
    "var1=np.array([[1,2],[3,4],[5,6]])\n",
    "print(var1)\n",
    "print()\n",
    "ar=np.array_split(var1,2)\n",
    "print(ar)\n",
    "print()\n",
    "ar1=np.array_split(var1,2,axis=1)"
   ]
  },
  {
   "cell_type": "code",
   "execution_count": null,
   "id": "bd899282",
   "metadata": {},
   "outputs": [],
   "source": []
  }
 ],
 "metadata": {
  "kernelspec": {
   "display_name": "Python 3 (ipykernel)",
   "language": "python",
   "name": "python3"
  },
  "language_info": {
   "codemirror_mode": {
    "name": "ipython",
    "version": 3
   },
   "file_extension": ".py",
   "mimetype": "text/x-python",
   "name": "python",
   "nbconvert_exporter": "python",
   "pygments_lexer": "ipython3",
   "version": "3.11.4"
  }
 },
 "nbformat": 4,
 "nbformat_minor": 5
}
