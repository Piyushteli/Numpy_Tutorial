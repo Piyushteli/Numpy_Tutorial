{
 "cells": [
  {
   "cell_type": "markdown",
   "id": "eab570b4",
   "metadata": {},
   "source": [
    "# Numpy Array Functions_2."
   ]
  },
  {
   "cell_type": "markdown",
   "id": "7c24c13f",
   "metadata": {},
   "source": [
    "1)shuffle()\n",
    "\n",
    "2)unique()\n",
    "\n",
    "3)resize()\n",
    "\n",
    "4)flatten()\n",
    "\n",
    "5)ravel()"
   ]
  },
  {
   "cell_type": "markdown",
   "id": "16e178a0",
   "metadata": {},
   "source": [
    "# 1)shuffle()"
   ]
  },
  {
   "cell_type": "code",
   "execution_count": 5,
   "id": "7cf4484f",
   "metadata": {},
   "outputs": [
    {
     "name": "stdout",
     "output_type": "stream",
     "text": [
      "[7 5 2 8 4 6 3 1 9]\n"
     ]
    }
   ],
   "source": [
    "import numpy as np\n",
    "var4=np.array([1,2,3,4,5,6,7,8,9])\n",
    "np.random.shuffle(var4)\n",
    "print(var4)"
   ]
  },
  {
   "cell_type": "markdown",
   "id": "b5ea6769",
   "metadata": {},
   "source": [
    "# 2)unique()"
   ]
  },
  {
   "cell_type": "code",
   "execution_count": 7,
   "id": "3bf60ac5",
   "metadata": {},
   "outputs": [
    {
     "name": "stdout",
     "output_type": "stream",
     "text": [
      "[1 2 3 4 5 6]\n"
     ]
    }
   ],
   "source": [
    "var2=np.array([1,2,2,2,3,4,5,5,6,4,6,4,6,4,6,4,5])\n",
    "v=np.unique(var2)\n",
    "print(v)\n"
   ]
  },
  {
   "cell_type": "markdown",
   "id": "1fcc5d53",
   "metadata": {},
   "source": [
    "# 3)resize()"
   ]
  },
  {
   "cell_type": "code",
   "execution_count": 11,
   "id": "82d16915",
   "metadata": {},
   "outputs": [
    {
     "name": "stdout",
     "output_type": "stream",
     "text": [
      "[[1 2 3]\n",
      " [4 5 6]]\n"
     ]
    }
   ],
   "source": [
    "var3=np.array([1,2,3,4,5,6])\n",
    "v=np.resize(var3,(2,3))\n",
    "print(v)"
   ]
  },
  {
   "cell_type": "code",
   "execution_count": 12,
   "id": "df4ea353",
   "metadata": {},
   "outputs": [
    {
     "name": "stdout",
     "output_type": "stream",
     "text": [
      "[[1 2]\n",
      " [3 4]\n",
      " [5 6]]\n"
     ]
    }
   ],
   "source": [
    "var3=np.array([1,2,3,4,5,6])\n",
    "v=np.resize(var3,(3,2))\n",
    "print(v)"
   ]
  },
  {
   "cell_type": "markdown",
   "id": "6fa896ae",
   "metadata": {},
   "source": [
    "# 4)flatten()"
   ]
  },
  {
   "cell_type": "code",
   "execution_count": 18,
   "id": "761169de",
   "metadata": {},
   "outputs": [
    {
     "name": "stdout",
     "output_type": "stream",
     "text": [
      "[ 1  2  3  4  5  6  7  8  9 10]\n"
     ]
    }
   ],
   "source": [
    "var4=np.array([[1,2,3,4,5],[6,7,8,9,10]])\n",
    "v=(var4.flatten())\n",
    "print(v)"
   ]
  },
  {
   "cell_type": "code",
   "execution_count": 19,
   "id": "df347692",
   "metadata": {},
   "outputs": [
    {
     "name": "stdout",
     "output_type": "stream",
     "text": [
      "[ 1  2  3  4  5  6  7  8  9 10]\n"
     ]
    }
   ],
   "source": [
    "var4=np.array([[1,2,3,4,5],[6,7,8,9,10]])\n",
    "v=(var4.flatten(order=\"C\"))\n",
    "print(v)"
   ]
  },
  {
   "cell_type": "code",
   "execution_count": 20,
   "id": "2ddbeb09",
   "metadata": {},
   "outputs": [
    {
     "name": "stdout",
     "output_type": "stream",
     "text": [
      "[ 1  6  2  7  3  8  4  9  5 10]\n"
     ]
    }
   ],
   "source": [
    "var4=np.array([[1,2,3,4,5],[6,7,8,9,10]])\n",
    "v=(var4.flatten(order=\"F\"))\n",
    "print(v)"
   ]
  },
  {
   "cell_type": "code",
   "execution_count": 21,
   "id": "b028a8fe",
   "metadata": {},
   "outputs": [
    {
     "name": "stdout",
     "output_type": "stream",
     "text": [
      "[ 1  2  3  4  5  6  7  8  9 10]\n"
     ]
    }
   ],
   "source": [
    "var4=np.array([[1,2,3,4,5],[6,7,8,9,10]])\n",
    "v=(var4.flatten(order=\"A\"))\n",
    "print(v)"
   ]
  },
  {
   "cell_type": "code",
   "execution_count": 23,
   "id": "d0ea7de8",
   "metadata": {},
   "outputs": [
    {
     "name": "stdout",
     "output_type": "stream",
     "text": [
      "[ 1  2  3  4  5  6  7  8  9 10]\n"
     ]
    }
   ],
   "source": [
    "var4=np.array([[1,2,3,4,5],[6,7,8,9,10]])\n",
    "v=(var4.flatten(order=\"K\"))\n",
    "print(v)"
   ]
  },
  {
   "cell_type": "markdown",
   "id": "338c20d3",
   "metadata": {},
   "source": [
    "# 5)ravel()"
   ]
  },
  {
   "cell_type": "code",
   "execution_count": 27,
   "id": "7e76b824",
   "metadata": {},
   "outputs": [
    {
     "name": "stdout",
     "output_type": "stream",
     "text": [
      "[ 1  2  3  4  5  6  7  8  9 10]\n"
     ]
    }
   ],
   "source": [
    "var4=np.array([[1,2,3,4,5],[6,7,8,9,10]])\n",
    "v=np.ravel(var4)\n",
    "print(v)"
   ]
  },
  {
   "cell_type": "code",
   "execution_count": null,
   "id": "f9ce2219",
   "metadata": {},
   "outputs": [],
   "source": [
    "var4=np.array([[1,2,3,4,5],[6,7,8,9,10]])\n",
    "v=np.ravel(var4,order=\"F\")\n",
    "print(v)"
   ]
  }
 ],
 "metadata": {
  "kernelspec": {
   "display_name": "Python 3 (ipykernel)",
   "language": "python",
   "name": "python3"
  },
  "language_info": {
   "codemirror_mode": {
    "name": "ipython",
    "version": 3
   },
   "file_extension": ".py",
   "mimetype": "text/x-python",
   "name": "python",
   "nbconvert_exporter": "python",
   "pygments_lexer": "ipython3",
   "version": "3.11.4"
  }
 },
 "nbformat": 4,
 "nbformat_minor": 5
}
