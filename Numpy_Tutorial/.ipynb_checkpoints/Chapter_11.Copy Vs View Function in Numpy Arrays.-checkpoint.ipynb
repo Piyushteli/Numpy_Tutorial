{
 "cells": [
  {
   "cell_type": "markdown",
   "id": "7f34e96c",
   "metadata": {},
   "source": [
    "# Copy Function"
   ]
  },
  {
   "cell_type": "code",
   "execution_count": 1,
   "id": "e00615c7",
   "metadata": {},
   "outputs": [
    {
     "name": "stdout",
     "output_type": "stream",
     "text": [
      "var: [1 2 3 4 5 6]\n",
      "\n",
      "co: [1 2 3 4 5 6]\n"
     ]
    }
   ],
   "source": [
    "import numpy as np \n",
    "var=np.array([1,2,3,4,5,6])\n",
    "co=var.copy()\n",
    "print(\"var:\",var)\n",
    "print()\n",
    "print(\"co:\",co)"
   ]
  },
  {
   "cell_type": "code",
   "execution_count": 2,
   "id": "d9e3c2da",
   "metadata": {},
   "outputs": [
    {
     "name": "stdout",
     "output_type": "stream",
     "text": [
      "var: [1 2 3 9 5 6]\n",
      "\n",
      "co: [1 2 3 4 5 6]\n"
     ]
    }
   ],
   "source": [
    "var[3]=9\n",
    "print(\"var:\",var)\n",
    "print()\n",
    "print(\"co:\",co)"
   ]
  },
  {
   "cell_type": "markdown",
   "id": "6cf8742c",
   "metadata": {},
   "source": [
    "# View Function"
   ]
  },
  {
   "cell_type": "code",
   "execution_count": 3,
   "id": "6433e9cf",
   "metadata": {},
   "outputs": [
    {
     "name": "stdout",
     "output_type": "stream",
     "text": [
      "Var1: [1 2 3 4 5 6]\n",
      "\n",
      "vi [1 2 3 4 5 6]\n"
     ]
    }
   ],
   "source": [
    "var1=np.array([1,2,3,4,5,6])\n",
    "vi=var1.view()\n",
    "print(\"Var1:\",var1)\n",
    "print()\n",
    "print(\"vi\",vi)"
   ]
  },
  {
   "cell_type": "code",
   "execution_count": 4,
   "id": "3cb01aa9",
   "metadata": {},
   "outputs": [
    {
     "name": "stdout",
     "output_type": "stream",
     "text": [
      "Var1: [1 2 3 9 5 6]\n",
      "\n",
      "vi [1 2 3 9 5 6]\n"
     ]
    }
   ],
   "source": [
    "var1[3]=9\n",
    "print(\"Var1:\",var1)\n",
    "print()\n",
    "print(\"vi\",vi)\n"
   ]
  },
  {
   "cell_type": "code",
   "execution_count": null,
   "id": "0bf73bfc",
   "metadata": {},
   "outputs": [],
   "source": []
  }
 ],
 "metadata": {
  "kernelspec": {
   "display_name": "Python 3 (ipykernel)",
   "language": "python",
   "name": "python3"
  },
  "language_info": {
   "codemirror_mode": {
    "name": "ipython",
    "version": 3
   },
   "file_extension": ".py",
   "mimetype": "text/x-python",
   "name": "python",
   "nbconvert_exporter": "python",
   "pygments_lexer": "ipython3",
   "version": "3.11.4"
  }
 },
 "nbformat": 4,
 "nbformat_minor": 5
}
