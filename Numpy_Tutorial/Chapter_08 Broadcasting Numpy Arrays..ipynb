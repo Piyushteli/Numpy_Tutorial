{
 "cells": [
  {
   "cell_type": "markdown",
   "id": "8bdbc2ce",
   "metadata": {},
   "source": [
    "# Broadcasting Numpy Arrays."
   ]
  },
  {
   "cell_type": "code",
   "execution_count": 5,
   "id": "e60c2955",
   "metadata": {},
   "outputs": [
    {
     "name": "stdout",
     "output_type": "stream",
     "text": [
      "(3,)\n",
      "\n",
      "[1 2 3]\n",
      "\n",
      "(2, 3)\n",
      "\n",
      "[[1 2 3]\n",
      " [1 2 3]]\n",
      "\n",
      "[[2 4 6]\n",
      " [2 4 6]]\n"
     ]
    }
   ],
   "source": [
    "import numpy as np\n",
    "var1=np.array([1,2,3])\n",
    "print(var1.shape)\n",
    "print()\n",
    "print(var1)\n",
    "print()\n",
    "var2=np.array([[1,2,3],[1,2,3]])\n",
    "print(var2.shape)\n",
    "print()\n",
    "print(var2)\n",
    "print()\n",
    "print(var1+var2)"
   ]
  },
  {
   "cell_type": "code",
   "execution_count": 11,
   "id": "e5ceb6a1",
   "metadata": {},
   "outputs": [
    {
     "name": "stdout",
     "output_type": "stream",
     "text": [
      "(2, 1)\n",
      "\n",
      "[[1]\n",
      " [2]]\n",
      "\n",
      "\n",
      "(2, 3)\n",
      "\n",
      "[[1 2 3]\n",
      " [3 4 5]]\n",
      "\n",
      "[[2 3 4]\n",
      " [5 6 7]]\n"
     ]
    }
   ],
   "source": [
    "a=np.array([[1],[2]])\n",
    "print(a.shape)\n",
    "print()\n",
    "print(a)\n",
    "print()\n",
    "b=np.array([[1,2,3],[3,4,5]])\n",
    "print()\n",
    "print(b.shape)\n",
    "print()\n",
    "print(b)\n",
    "print()\n",
    "\n",
    "print(a+b)"
   ]
  },
  {
   "cell_type": "code",
   "execution_count": null,
   "id": "ec8f1acf",
   "metadata": {},
   "outputs": [],
   "source": []
  }
 ],
 "metadata": {
  "kernelspec": {
   "display_name": "Python 3 (ipykernel)",
   "language": "python",
   "name": "python3"
  },
  "language_info": {
   "codemirror_mode": {
    "name": "ipython",
    "version": 3
   },
   "file_extension": ".py",
   "mimetype": "text/x-python",
   "name": "python",
   "nbconvert_exporter": "python",
   "pygments_lexer": "ipython3",
   "version": "3.11.4"
  }
 },
 "nbformat": 4,
 "nbformat_minor": 5
}
