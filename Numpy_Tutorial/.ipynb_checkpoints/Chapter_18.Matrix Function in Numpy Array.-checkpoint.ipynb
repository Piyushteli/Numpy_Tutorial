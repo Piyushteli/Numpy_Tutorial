{
 "cells": [
  {
   "cell_type": "markdown",
   "id": "ff6b438e",
   "metadata": {},
   "source": [
    "# Matrix Function."
   ]
  },
  {
   "cell_type": "markdown",
   "id": "627ef637",
   "metadata": {},
   "source": [
    "1)Transpose\n",
    "\n",
    "2)swapaxes\n",
    "\n",
    "3)Inverse\n",
    "\n",
    "4)power\n",
    "\n",
    "5)determinant."
   ]
  },
  {
   "cell_type": "markdown",
   "id": "1b92096a",
   "metadata": {},
   "source": [
    "# 1)Transpose Matrix."
   ]
  },
  {
   "cell_type": "code",
   "execution_count": 5,
   "id": "6a6995ad",
   "metadata": {},
   "outputs": [
    {
     "name": "stdout",
     "output_type": "stream",
     "text": [
      "[[1 2 3]\n",
      " [4 5 6]]\n",
      "\n",
      "[[1 4]\n",
      " [2 5]\n",
      " [3 6]]\n"
     ]
    }
   ],
   "source": [
    "import numpy as np\n",
    "var=np.matrix([[1,2,3],[4,5,6]])\n",
    "print(var)\n",
    "print()\n",
    "print(np.transpose(var))"
   ]
  },
  {
   "cell_type": "markdown",
   "id": "53b0081e",
   "metadata": {},
   "source": [
    "# 2)swapaxes Matrix."
   ]
  },
  {
   "cell_type": "code",
   "execution_count": 9,
   "id": "f64f2300",
   "metadata": {},
   "outputs": [
    {
     "name": "stdout",
     "output_type": "stream",
     "text": [
      "[[1 2 3]\n",
      " [4 5 6]]\n",
      "\n",
      "[[1 4]\n",
      " [2 5]\n",
      " [3 6]]\n"
     ]
    }
   ],
   "source": [
    "var1=np.matrix([[1,2,3],[4,5,6]])\n",
    "print(var1)\n",
    "print()\n",
    "print(np.swapaxes(var1,0,1))\n"
   ]
  },
  {
   "cell_type": "markdown",
   "id": "5b7114fc",
   "metadata": {},
   "source": [
    "# 3)Inverse Matrix."
   ]
  },
  {
   "cell_type": "code",
   "execution_count": 14,
   "id": "51cf887a",
   "metadata": {},
   "outputs": [
    {
     "name": "stdout",
     "output_type": "stream",
     "text": [
      "[[1 2]\n",
      " [3 4]]\n",
      "\n",
      "[[-2.   1. ]\n",
      " [ 1.5 -0.5]]\n"
     ]
    }
   ],
   "source": [
    "var=np.matrix([[1,2],[3,4]])\n",
    "print(var)\n",
    "print()\n",
    "print(np.linalg.inv(var))"
   ]
  },
  {
   "cell_type": "markdown",
   "id": "9e5f1d2a",
   "metadata": {},
   "source": [
    "# 4)power() Matrix Function."
   ]
  },
  {
   "cell_type": "code",
   "execution_count": 16,
   "id": "98802aef",
   "metadata": {},
   "outputs": [
    {
     "name": "stdout",
     "output_type": "stream",
     "text": [
      "[[1 2]\n",
      " [3 4]]\n",
      "\n",
      "[[ 7 10]\n",
      " [15 22]]\n"
     ]
    }
   ],
   "source": [
    "var2=np.matrix([[1,2],[3,4]])\n",
    "print(var2)\n",
    "print()\n",
    "print(np.linalg.matrix_power(var2,2))"
   ]
  },
  {
   "cell_type": "markdown",
   "id": "cbb6e35b",
   "metadata": {},
   "source": [
    "# 5)Determinant Matrix Function."
   ]
  },
  {
   "cell_type": "code",
   "execution_count": 20,
   "id": "989179d6",
   "metadata": {},
   "outputs": [
    {
     "ename": "ValueError",
     "evalue": "matrix must be 2-dimensional",
     "output_type": "error",
     "traceback": [
      "\u001b[1;31m---------------------------------------------------------------------------\u001b[0m",
      "\u001b[1;31mValueError\u001b[0m                                Traceback (most recent call last)",
      "Cell \u001b[1;32mIn[20], line 1\u001b[0m\n\u001b[1;32m----> 1\u001b[0m var2\u001b[38;5;241m=\u001b[39mnp\u001b[38;5;241m.\u001b[39mmatrix([[[\u001b[38;5;241m1\u001b[39m,\u001b[38;5;241m2\u001b[39m,\u001b[38;5;241m3\u001b[39m],[\u001b[38;5;241m3\u001b[39m,\u001b[38;5;241m4\u001b[39m,\u001b[38;5;241m5\u001b[39m],[\u001b[38;5;241m7\u001b[39m,\u001b[38;5;241m8\u001b[39m,\u001b[38;5;241m9\u001b[39m]]])\n\u001b[0;32m      2\u001b[0m \u001b[38;5;28mprint\u001b[39m(var2)\n\u001b[0;32m      3\u001b[0m \u001b[38;5;28mprint\u001b[39m()\n",
      "File \u001b[1;32m~\\anaconda3 this p\\Lib\\site-packages\\numpy\\matrixlib\\defmatrix.py:149\u001b[0m, in \u001b[0;36mmatrix.__new__\u001b[1;34m(subtype, data, dtype, copy)\u001b[0m\n\u001b[0;32m    147\u001b[0m shape \u001b[38;5;241m=\u001b[39m arr\u001b[38;5;241m.\u001b[39mshape\n\u001b[0;32m    148\u001b[0m \u001b[38;5;28;01mif\u001b[39;00m (ndim \u001b[38;5;241m>\u001b[39m \u001b[38;5;241m2\u001b[39m):\n\u001b[1;32m--> 149\u001b[0m     \u001b[38;5;28;01mraise\u001b[39;00m \u001b[38;5;167;01mValueError\u001b[39;00m(\u001b[38;5;124m\"\u001b[39m\u001b[38;5;124mmatrix must be 2-dimensional\u001b[39m\u001b[38;5;124m\"\u001b[39m)\n\u001b[0;32m    150\u001b[0m \u001b[38;5;28;01melif\u001b[39;00m ndim \u001b[38;5;241m==\u001b[39m \u001b[38;5;241m0\u001b[39m:\n\u001b[0;32m    151\u001b[0m     shape \u001b[38;5;241m=\u001b[39m (\u001b[38;5;241m1\u001b[39m, \u001b[38;5;241m1\u001b[39m)\n",
      "\u001b[1;31mValueError\u001b[0m: matrix must be 2-dimensional"
     ]
    }
   ],
   "source": [
    "var2=np.matrix([[[1,2,3],[3,4,5],[7,8,9]]])\n",
    "print(var2)\n",
    "print()\n",
    "print(np.linalg.det(var2))"
   ]
  },
  {
   "cell_type": "code",
   "execution_count": null,
   "id": "8f777649",
   "metadata": {},
   "outputs": [],
   "source": []
  }
 ],
 "metadata": {
  "kernelspec": {
   "display_name": "Python 3 (ipykernel)",
   "language": "python",
   "name": "python3"
  },
  "language_info": {
   "codemirror_mode": {
    "name": "ipython",
    "version": 3
   },
   "file_extension": ".py",
   "mimetype": "text/x-python",
   "name": "python",
   "nbconvert_exporter": "python",
   "pygments_lexer": "ipython3",
   "version": "3.11.4"
  }
 },
 "nbformat": 4,
 "nbformat_minor": 5
}
