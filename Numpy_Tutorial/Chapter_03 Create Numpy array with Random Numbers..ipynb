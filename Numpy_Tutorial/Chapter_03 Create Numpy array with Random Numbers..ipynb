{
 "cells": [
  {
   "cell_type": "markdown",
   "id": "5684932e",
   "metadata": {},
   "source": [
    "# Random"
   ]
  },
  {
   "cell_type": "markdown",
   "id": "b8442b4e",
   "metadata": {},
   "source": [
    "# 1)rand()                          (0-1)"
   ]
  },
  {
   "cell_type": "code",
   "execution_count": 1,
   "id": "ed9c9bb3",
   "metadata": {},
   "outputs": [
    {
     "name": "stdout",
     "output_type": "stream",
     "text": [
      "[0.06281862 0.07441649 0.56370115 0.01207031 0.58903697]\n"
     ]
    }
   ],
   "source": [
    "import numpy as np\n",
    "var1=np.random.rand(5)\n",
    "print(var1)"
   ]
  },
  {
   "cell_type": "code",
   "execution_count": 3,
   "id": "7a00a0b7",
   "metadata": {},
   "outputs": [
    {
     "name": "stdout",
     "output_type": "stream",
     "text": [
      "[[0.93354276 0.34405582 0.99557899 0.74691475]\n",
      " [0.10927885 0.16455876 0.88466124 0.4675894 ]\n",
      " [0.44114267 0.12679155 0.84545637 0.31206633]\n",
      " [0.69086624 0.83361555 0.14835005 0.41800725]\n",
      " [0.40190291 0.72518663 0.11523511 0.61104063]]\n"
     ]
    }
   ],
   "source": [
    "var_1=np.random.rand(5,4)\n",
    "print(var_1)"
   ]
  },
  {
   "cell_type": "markdown",
   "id": "4e308bf3",
   "metadata": {},
   "source": [
    "# 2)randn()   "
   ]
  },
  {
   "cell_type": "code",
   "execution_count": 4,
   "id": "4b13e86a",
   "metadata": {},
   "outputs": [
    {
     "name": "stdout",
     "output_type": "stream",
     "text": [
      "[-0.69852545  0.46082274 -0.52477436 -0.29414905  0.02376864]\n"
     ]
    }
   ],
   "source": [
    "var2=np.random.randn(5)\n",
    "print(var2)"
   ]
  },
  {
   "cell_type": "markdown",
   "id": "b4d8804e",
   "metadata": {},
   "source": [
    "# 3)ranf()"
   ]
  },
  {
   "cell_type": "code",
   "execution_count": 6,
   "id": "bd542d6e",
   "metadata": {},
   "outputs": [
    {
     "name": "stdout",
     "output_type": "stream",
     "text": [
      "[0.38768582 0.67759277 0.50768734 0.01906543 0.6905721 ]\n"
     ]
    }
   ],
   "source": [
    "var3=np.random.ranf(5)\n",
    "print(var3)"
   ]
  },
  {
   "cell_type": "markdown",
   "id": "b52dbd82",
   "metadata": {},
   "source": [
    "# 4)randint()"
   ]
  },
  {
   "cell_type": "code",
   "execution_count": 14,
   "id": "06523bd7",
   "metadata": {},
   "outputs": [
    {
     "name": "stdout",
     "output_type": "stream",
     "text": [
      "[16 18 17 14  5]\n"
     ]
    }
   ],
   "source": [
    "var4=np.random.randint(5,20,5)\n",
    "print(var4)"
   ]
  },
  {
   "cell_type": "code",
   "execution_count": null,
   "id": "7e400517",
   "metadata": {},
   "outputs": [],
   "source": []
  },
  {
   "cell_type": "code",
   "execution_count": null,
   "id": "e328f863",
   "metadata": {},
   "outputs": [],
   "source": []
  }
 ],
 "metadata": {
  "kernelspec": {
   "display_name": "Python 3 (ipykernel)",
   "language": "python",
   "name": "python3"
  },
  "language_info": {
   "codemirror_mode": {
    "name": "ipython",
    "version": 3
   },
   "file_extension": ".py",
   "mimetype": "text/x-python",
   "name": "python",
   "nbconvert_exporter": "python",
   "pygments_lexer": "ipython3",
   "version": "3.11.4"
  }
 },
 "nbformat": 4,
 "nbformat_minor": 5
}
