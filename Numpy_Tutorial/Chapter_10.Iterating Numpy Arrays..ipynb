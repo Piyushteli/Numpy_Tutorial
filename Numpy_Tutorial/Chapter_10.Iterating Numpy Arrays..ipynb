{
 "cells": [
  {
   "cell_type": "markdown",
   "id": "4d74b924",
   "metadata": {},
   "source": [
    "# Iterating Numpy Arrays."
   ]
  },
  {
   "cell_type": "code",
   "execution_count": 1,
   "id": "285709aa",
   "metadata": {},
   "outputs": [
    {
     "name": "stdout",
     "output_type": "stream",
     "text": [
      "100\n",
      "101\n",
      "102\n",
      "103\n",
      "104\n",
      "105\n"
     ]
    }
   ],
   "source": [
    "import numpy as np\n",
    "var=np.array([100,101,102,103,104,105])\n",
    "for i in var:\n",
    "    print(i)\n"
   ]
  },
  {
   "cell_type": "markdown",
   "id": "03888ddb",
   "metadata": {},
   "source": [
    "# 2-Dimesion Arrays."
   ]
  },
  {
   "cell_type": "code",
   "execution_count": 4,
   "id": "3fcfb3ce",
   "metadata": {},
   "outputs": [
    {
     "name": "stdout",
     "output_type": "stream",
     "text": [
      "[[11 12 13 14 15]\n",
      " [21 22 23 24 25]]\n",
      "\n",
      "11\n",
      "12\n",
      "13\n",
      "14\n",
      "15\n",
      "21\n",
      "22\n",
      "23\n",
      "24\n",
      "25\n"
     ]
    }
   ],
   "source": [
    "var1=np.array([[11,12,13,14,15],[21,22,23,24,25]])\n",
    "print(var1)\n",
    "print()\n",
    "for i in var1:\n",
    "    for j in i:\n",
    "        print(j)"
   ]
  },
  {
   "cell_type": "markdown",
   "id": "df6afb80",
   "metadata": {},
   "source": [
    "# 3-Dimension Arrays."
   ]
  },
  {
   "cell_type": "code",
   "execution_count": 7,
   "id": "a6cad6df",
   "metadata": {},
   "outputs": [
    {
     "name": "stdout",
     "output_type": "stream",
     "text": [
      "[[[31 32 33 34 35]\n",
      "  [36 37 38 39 40]\n",
      "  [41 42 43 44 45]]]\n",
      "\n",
      "31\n",
      "32\n",
      "33\n",
      "34\n",
      "35\n",
      "36\n",
      "37\n",
      "38\n",
      "39\n",
      "40\n",
      "41\n",
      "42\n",
      "43\n",
      "44\n",
      "45\n"
     ]
    }
   ],
   "source": [
    "var2=np.array([[[31,32,33,34,35],[36,37,38,39,40],[41,42,43,44,45]]])\n",
    "print(var2)\n",
    "print()\n",
    "for i in var2:\n",
    "    for j in i:\n",
    "        for k in j:\n",
    "            print(k)"
   ]
  },
  {
   "cell_type": "code",
   "execution_count": 13,
   "id": "2379076d",
   "metadata": {},
   "outputs": [
    {
     "name": "stdout",
     "output_type": "stream",
     "text": [
      "[[[31 32 33 34 35]\n",
      "  [36 37 38 39 40]\n",
      "  [41 42 43 44 45]]]\n",
      "\n",
      "31\n",
      "32\n",
      "33\n",
      "34\n",
      "35\n",
      "36\n",
      "37\n",
      "38\n",
      "39\n",
      "40\n",
      "41\n",
      "42\n",
      "43\n",
      "44\n",
      "45\n"
     ]
    }
   ],
   "source": [
    "var2=np.array([[[31,32,33,34,35],[36,37,38,39,40],[41,42,43,44,45]]])\n",
    "print(var2)\n",
    "print()\n",
    "for i in np.nditer(var2):\n",
    "    print(i)"
   ]
  },
  {
   "cell_type": "code",
   "execution_count": 19,
   "id": "55414cee",
   "metadata": {},
   "outputs": [
    {
     "name": "stdout",
     "output_type": "stream",
     "text": [
      "[[[31 32 33 34 35]\n",
      "  [36 37 38 39 40]\n",
      "  [41 42 43 44 45]]]\n",
      "\n",
      "(0, 0, 0) 31\n",
      "(0, 0, 1) 32\n",
      "(0, 0, 2) 33\n",
      "(0, 0, 3) 34\n",
      "(0, 0, 4) 35\n",
      "(0, 1, 0) 36\n",
      "(0, 1, 1) 37\n",
      "(0, 1, 2) 38\n",
      "(0, 1, 3) 39\n",
      "(0, 1, 4) 40\n",
      "(0, 2, 0) 41\n",
      "(0, 2, 1) 42\n",
      "(0, 2, 2) 43\n",
      "(0, 2, 3) 44\n",
      "(0, 2, 4) 45\n"
     ]
    }
   ],
   "source": [
    "var3=np.array([[[31,32,33,34,35],[36,37,38,39,40],[41,42,43,44,45]]])\n",
    "print(var3)\n",
    "print()\n",
    "for i,d in np.ndenumerate(var3):\n",
    "    print(i,d)"
   ]
  },
  {
   "cell_type": "code",
   "execution_count": null,
   "id": "92fed33b",
   "metadata": {},
   "outputs": [],
   "source": []
  }
 ],
 "metadata": {
  "kernelspec": {
   "display_name": "Python 3 (ipykernel)",
   "language": "python",
   "name": "python3"
  },
  "language_info": {
   "codemirror_mode": {
    "name": "ipython",
    "version": 3
   },
   "file_extension": ".py",
   "mimetype": "text/x-python",
   "name": "python",
   "nbconvert_exporter": "python",
   "pygments_lexer": "ipython3",
   "version": "3.11.4"
  }
 },
 "nbformat": 4,
 "nbformat_minor": 5
}
