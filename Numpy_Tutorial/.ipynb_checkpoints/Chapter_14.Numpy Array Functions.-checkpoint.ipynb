{
 "cells": [
  {
   "cell_type": "markdown",
   "id": "9b81cf7b",
   "metadata": {},
   "source": [
    "# Numpy Array Functions.\n"
   ]
  },
  {
   "cell_type": "markdown",
   "id": "685cebcf",
   "metadata": {},
   "source": [
    "1)search(i.e which())\n",
    "\n",
    "2)sort\n",
    "\n",
    "3)search Sorted\n",
    "\n",
    "4)filter"
   ]
  },
  {
   "cell_type": "markdown",
   "id": "1ce0275a",
   "metadata": {},
   "source": [
    "# 1)np.which()"
   ]
  },
  {
   "cell_type": "code",
   "execution_count": 14,
   "id": "561afa38",
   "metadata": {},
   "outputs": [
    {
     "name": "stdout",
     "output_type": "stream",
     "text": [
      "(array([4], dtype=int64),)\n"
     ]
    }
   ],
   "source": [
    "import numpy as np\n",
    "var=np.array([11,12,13,14,15])\n",
    "v=np.where(var==15)\n",
    "print(v)"
   ]
  },
  {
   "cell_type": "markdown",
   "id": "32e2279f",
   "metadata": {},
   "source": [
    "# 2)np.sort()"
   ]
  },
  {
   "cell_type": "code",
   "execution_count": 15,
   "id": "8490f95f",
   "metadata": {},
   "outputs": [
    {
     "name": "stdout",
     "output_type": "stream",
     "text": [
      "[ 1  2  3  4  5  6  7  8  9 10]\n"
     ]
    }
   ],
   "source": [
    "var1=np.array([1,3,2,6,4,5,9,7,8,10])\n",
    "sort=np.sort(var1)\n",
    "print(sort)"
   ]
  },
  {
   "cell_type": "markdown",
   "id": "7263b3b0",
   "metadata": {},
   "source": [
    "# 3)np.search sorted"
   ]
  },
  {
   "cell_type": "code",
   "execution_count": 18,
   "id": "5849bd84",
   "metadata": {},
   "outputs": [
    {
     "name": "stdout",
     "output_type": "stream",
     "text": [
      "1\n"
     ]
    }
   ],
   "source": [
    "var2=np.array([1,3,4,5,6,7,8,9])\n",
    "s=np.searchsorted(var2,2)\n",
    "print(s)"
   ]
  },
  {
   "cell_type": "markdown",
   "id": "14344321",
   "metadata": {},
   "source": [
    "# 4)np.filter()"
   ]
  },
  {
   "cell_type": "code",
   "execution_count": 27,
   "id": "7a127c03",
   "metadata": {},
   "outputs": [
    {
     "name": "stdout",
     "output_type": "stream",
     "text": [
      "['P' 'K']\n"
     ]
    }
   ],
   "source": [
    "var3=np.array([\"A\",\"S\",\"F\",\"P\",\"K\"])\n",
    "F=[False,False,False,True,True]\n",
    "filter=var3[F]\n",
    "print(filter)"
   ]
  }
 ],
 "metadata": {
  "kernelspec": {
   "display_name": "Python 3 (ipykernel)",
   "language": "python",
   "name": "python3"
  },
  "language_info": {
   "codemirror_mode": {
    "name": "ipython",
    "version": 3
   },
   "file_extension": ".py",
   "mimetype": "text/x-python",
   "name": "python",
   "nbconvert_exporter": "python",
   "pygments_lexer": "ipython3",
   "version": "3.11.4"
  }
 },
 "nbformat": 4,
 "nbformat_minor": 5
}
