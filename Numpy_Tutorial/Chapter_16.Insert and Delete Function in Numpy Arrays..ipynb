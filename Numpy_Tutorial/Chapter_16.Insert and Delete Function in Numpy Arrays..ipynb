{
 "cells": [
  {
   "cell_type": "markdown",
   "id": "9058aee3",
   "metadata": {},
   "source": [
    "# 1)Insert()"
   ]
  },
  {
   "cell_type": "code",
   "execution_count": 4,
   "id": "ed47a33f",
   "metadata": {},
   "outputs": [
    {
     "name": "stdout",
     "output_type": "stream",
     "text": [
      "[1 2 3 4 5]\n",
      "\n",
      "[ 1  2 40  3  4  5]\n"
     ]
    }
   ],
   "source": [
    "import numpy as np \n",
    "var=np.array([1,2,3,4,5])\n",
    "print(var)\n",
    "print()\n",
    "NEW=np.insert(var,2,40)\n",
    "print(NEW)"
   ]
  },
  {
   "cell_type": "code",
   "execution_count": 6,
   "id": "9cb08ad4",
   "metadata": {},
   "outputs": [
    {
     "name": "stdout",
     "output_type": "stream",
     "text": [
      "[1 2 3 4 5]\n",
      "\n",
      "[ 1  2 40  3  4 40  5]\n"
     ]
    }
   ],
   "source": [
    "var=np.array([1,2,3,4,5])\n",
    "print(var)\n",
    "print()\n",
    "NEW=np.insert(var,(2,4),40)\n",
    "print(NEW)"
   ]
  },
  {
   "cell_type": "code",
   "execution_count": 7,
   "id": "a0b0a354",
   "metadata": {},
   "outputs": [
    {
     "name": "stdout",
     "output_type": "stream",
     "text": [
      "[[1 2 3]\n",
      " [4 5 6]]\n",
      "\n",
      "[[ 1  2  3]\n",
      " [ 4  5  6]\n",
      " [40 40 40]]\n"
     ]
    }
   ],
   "source": [
    "var=np.array([[1,2,3],[4,5,6]])\n",
    "print(var)\n",
    "print()\n",
    "NEW=np.insert(var,2,40,axis=0)\n",
    "print(NEW)"
   ]
  },
  {
   "cell_type": "markdown",
   "id": "011132d7",
   "metadata": {},
   "source": [
    "# 2)append()"
   ]
  },
  {
   "cell_type": "code",
   "execution_count": 5,
   "id": "09cb71ec",
   "metadata": {},
   "outputs": [
    {
     "name": "stdout",
     "output_type": "stream",
     "text": [
      "[1 2 3 4 5]\n",
      "\n",
      "[ 1  2  3  4  5 40]\n"
     ]
    }
   ],
   "source": [
    "var=np.array([1,2,3,4,5])\n",
    "print(var)\n",
    "print()\n",
    "NEW=np.append(var,40)\n",
    "print(NEW)"
   ]
  },
  {
   "cell_type": "markdown",
   "id": "6e486fa2",
   "metadata": {},
   "source": [
    "# 3)Delete()"
   ]
  },
  {
   "cell_type": "code",
   "execution_count": 8,
   "id": "d7bf6da1",
   "metadata": {},
   "outputs": [
    {
     "name": "stdout",
     "output_type": "stream",
     "text": [
      "[1 2 3 4 5]\n",
      "\n",
      "[1 2 4 5]\n"
     ]
    }
   ],
   "source": [
    "var=np.array([1,2,3,4,5])\n",
    "print(var)\n",
    "print()\n",
    "NEW=np.delete(var,2)\n",
    "print(NEW)"
   ]
  },
  {
   "cell_type": "code",
   "execution_count": null,
   "id": "acd6d7a3",
   "metadata": {},
   "outputs": [],
   "source": []
  }
 ],
 "metadata": {
  "kernelspec": {
   "display_name": "Python 3 (ipykernel)",
   "language": "python",
   "name": "python3"
  },
  "language_info": {
   "codemirror_mode": {
    "name": "ipython",
    "version": 3
   },
   "file_extension": ".py",
   "mimetype": "text/x-python",
   "name": "python",
   "nbconvert_exporter": "python",
   "pygments_lexer": "ipython3",
   "version": "3.11.4"
  }
 },
 "nbformat": 4,
 "nbformat_minor": 5
}
