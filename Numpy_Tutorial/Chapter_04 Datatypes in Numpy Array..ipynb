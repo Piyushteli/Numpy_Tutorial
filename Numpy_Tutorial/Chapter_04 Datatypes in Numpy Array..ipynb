{
 "cells": [
  {
   "cell_type": "markdown",
   "id": "04add51c",
   "metadata": {},
   "source": [
    "# Datatypes"
   ]
  },
  {
   "cell_type": "code",
   "execution_count": 3,
   "id": "071c168e",
   "metadata": {},
   "outputs": [
    {
     "name": "stdout",
     "output_type": "stream",
     "text": [
      "int32\n"
     ]
    }
   ],
   "source": [
    "import numpy as np \n",
    "var1=np.array([1,2,3,4,5])\n",
    "print(var1.dtype)\n"
   ]
  },
  {
   "cell_type": "code",
   "execution_count": 4,
   "id": "69599818",
   "metadata": {},
   "outputs": [
    {
     "name": "stdout",
     "output_type": "stream",
     "text": [
      "float64\n"
     ]
    }
   ],
   "source": [
    "var2=np.array([1.1,2.1,2.3,2.3,2.3,2.2])\n",
    "print(var2.dtype)"
   ]
  },
  {
   "cell_type": "code",
   "execution_count": 5,
   "id": "b9f8b4ce",
   "metadata": {},
   "outputs": [
    {
     "name": "stdout",
     "output_type": "stream",
     "text": [
      "<U1\n"
     ]
    }
   ],
   "source": [
    "var3=np.array(['d','e','p','k','a'])\n",
    "print(var3.dtype)"
   ]
  },
  {
   "cell_type": "code",
   "execution_count": 6,
   "id": "bcbec99a",
   "metadata": {},
   "outputs": [
    {
     "name": "stdout",
     "output_type": "stream",
     "text": [
      "<U11\n"
     ]
    }
   ],
   "source": [
    "var4=np.array(['d','e','p','k','a',12,3,4,5,6,4])\n",
    "print(var4.dtype)"
   ]
  },
  {
   "cell_type": "markdown",
   "id": "11468409",
   "metadata": {},
   "source": [
    "# Convert into another Datatypes"
   ]
  },
  {
   "cell_type": "code",
   "execution_count": 9,
   "id": "51e9455c",
   "metadata": {},
   "outputs": [
    {
     "name": "stdout",
     "output_type": "stream",
     "text": [
      "int64\n"
     ]
    }
   ],
   "source": [
    "var1=np.array([1,2,3,4,5],dtype=np.int64)\n",
    "print(var1.dtype)"
   ]
  },
  {
   "cell_type": "code",
   "execution_count": null,
   "id": "0cf5eddc",
   "metadata": {},
   "outputs": [],
   "source": []
  }
 ],
 "metadata": {
  "kernelspec": {
   "display_name": "Python 3 (ipykernel)",
   "language": "python",
   "name": "python3"
  },
  "language_info": {
   "codemirror_mode": {
    "name": "ipython",
    "version": 3
   },
   "file_extension": ".py",
   "mimetype": "text/x-python",
   "name": "python",
   "nbconvert_exporter": "python",
   "pygments_lexer": "ipython3",
   "version": "3.11.4"
  }
 },
 "nbformat": 4,
 "nbformat_minor": 5
}
