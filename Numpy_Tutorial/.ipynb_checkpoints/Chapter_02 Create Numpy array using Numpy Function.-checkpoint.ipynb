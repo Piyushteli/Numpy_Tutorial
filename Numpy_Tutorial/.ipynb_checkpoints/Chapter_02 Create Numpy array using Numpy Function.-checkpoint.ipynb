{
 "cells": [
  {
   "cell_type": "markdown",
   "id": "fa091737",
   "metadata": {},
   "source": [
    "# 1)Zeroes\n"
   ]
  },
  {
   "cell_type": "code",
   "execution_count": 1,
   "id": "10adf2be",
   "metadata": {},
   "outputs": [
    {
     "name": "stdout",
     "output_type": "stream",
     "text": [
      "[0. 0. 0. 0.]\n"
     ]
    }
   ],
   "source": [
    "import numpy as np\n",
    "ar_zero=np.zeros(4)\n",
    "print(ar_zero)"
   ]
  },
  {
   "cell_type": "code",
   "execution_count": 4,
   "id": "e75d37b9",
   "metadata": {},
   "outputs": [
    {
     "name": "stdout",
     "output_type": "stream",
     "text": [
      "[[0. 0. 0.]\n",
      " [0. 0. 0.]\n",
      " [0. 0. 0.]\n",
      " [0. 0. 0.]]\n"
     ]
    }
   ],
   "source": [
    "ar_zero1=np.zeros((4,3))\n",
    "print(ar_zero1)"
   ]
  },
  {
   "cell_type": "markdown",
   "id": "6e0b2b39",
   "metadata": {},
   "source": [
    "# 2)ones"
   ]
  },
  {
   "cell_type": "code",
   "execution_count": 2,
   "id": "5083158b",
   "metadata": {},
   "outputs": [
    {
     "name": "stdout",
     "output_type": "stream",
     "text": [
      "[1. 1. 1. 1.]\n"
     ]
    }
   ],
   "source": [
    "ar_ones=np.ones(4)\n",
    "print(ar_ones)"
   ]
  },
  {
   "cell_type": "code",
   "execution_count": 6,
   "id": "47aff50a",
   "metadata": {},
   "outputs": [
    {
     "name": "stdout",
     "output_type": "stream",
     "text": [
      "[[1. 1. 1.]\n",
      " [1. 1. 1.]\n",
      " [1. 1. 1.]\n",
      " [1. 1. 1.]]\n"
     ]
    }
   ],
   "source": [
    "ar_ones1=np.ones((4,3))\n",
    "print(ar_ones1)"
   ]
  },
  {
   "cell_type": "markdown",
   "id": "5de81d72",
   "metadata": {},
   "source": [
    "# 3)empty"
   ]
  },
  {
   "cell_type": "code",
   "execution_count": 7,
   "id": "6dc1431c",
   "metadata": {},
   "outputs": [
    {
     "name": "stdout",
     "output_type": "stream",
     "text": [
      "[1. 1. 1. 1.]\n"
     ]
    }
   ],
   "source": [
    "ar_em=np.empty(4)\n",
    "print(ar_em)            #Previous Memory"
   ]
  },
  {
   "cell_type": "markdown",
   "id": "e4965527",
   "metadata": {},
   "source": [
    "# 4)Diagonal"
   ]
  },
  {
   "cell_type": "code",
   "execution_count": 8,
   "id": "cc7f314e",
   "metadata": {},
   "outputs": [
    {
     "name": "stdout",
     "output_type": "stream",
     "text": [
      "[[1. 0. 0. 0.]\n",
      " [0. 1. 0. 0.]\n",
      " [0. 0. 1. 0.]\n",
      " [0. 0. 0. 1.]]\n"
     ]
    }
   ],
   "source": [
    "ar_dia=np.eye(4)\n",
    "print(ar_dia)"
   ]
  },
  {
   "cell_type": "markdown",
   "id": "27d513af",
   "metadata": {},
   "source": [
    "# 5)linspace"
   ]
  },
  {
   "cell_type": "code",
   "execution_count": 10,
   "id": "c9f1928b",
   "metadata": {},
   "outputs": [
    {
     "name": "stdout",
     "output_type": "stream",
     "text": [
      "[ 0.  5. 10. 15. 20.]\n"
     ]
    }
   ],
   "source": [
    "ar_lin=np.linspace(0,20,num=5)\n",
    "print(ar_lin)"
   ]
  },
  {
   "cell_type": "code",
   "execution_count": null,
   "id": "30ec47ae",
   "metadata": {},
   "outputs": [],
   "source": []
  }
 ],
 "metadata": {
  "kernelspec": {
   "display_name": "Python 3 (ipykernel)",
   "language": "python",
   "name": "python3"
  },
  "language_info": {
   "codemirror_mode": {
    "name": "ipython",
    "version": 3
   },
   "file_extension": ".py",
   "mimetype": "text/x-python",
   "name": "python",
   "nbconvert_exporter": "python",
   "pygments_lexer": "ipython3",
   "version": "3.11.4"
  }
 },
 "nbformat": 4,
 "nbformat_minor": 5
}
