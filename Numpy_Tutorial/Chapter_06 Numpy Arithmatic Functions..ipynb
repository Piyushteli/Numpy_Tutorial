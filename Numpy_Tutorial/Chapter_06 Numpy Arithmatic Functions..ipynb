{
 "cells": [
  {
   "cell_type": "markdown",
   "id": "cc1e0493",
   "metadata": {},
   "source": [
    "# Arithmatic Function"
   ]
  },
  {
   "cell_type": "markdown",
   "id": "768f5f72",
   "metadata": {},
   "source": [
    "1)np.min()\n",
    "\n",
    "2)np.max()\n",
    "\n",
    "3)np.argmin()\n",
    "\n",
    "4)np.sqrt()\n",
    "\n",
    "5)np.sin()\n",
    "\n",
    "6)np.cos()\n",
    "\n",
    "7)np.cumsum()\n"
   ]
  },
  {
   "cell_type": "markdown",
   "id": "00bc8440",
   "metadata": {},
   "source": [
    "# 1)np.min()\n",
    "\n",
    "# 2)np.max()\n",
    "\n",
    "# 3)np.argmin()\n",
    "\n",
    "# 4)np.argmax()"
   ]
  },
  {
   "cell_type": "code",
   "execution_count": 6,
   "id": "7f203c01",
   "metadata": {},
   "outputs": [
    {
     "name": "stdout",
     "output_type": "stream",
     "text": [
      "min Value:  1 Position 0\n",
      "max Value:  20 Position 8\n"
     ]
    }
   ],
   "source": [
    "import numpy as np\n",
    "var=np.array([1,2,3,4,5,3,4,3,20])\n",
    "\n",
    "print(\"min Value: \",np.min(var), \"Position\",np.argmin(var))\n",
    "print(\"max Value: \",np.max(var),  \"Position\",np.argmax(var))"
   ]
  },
  {
   "cell_type": "markdown",
   "id": "6b84b36b",
   "metadata": {},
   "source": [
    "# 5)np.sqrt()"
   ]
  },
  {
   "cell_type": "code",
   "execution_count": 8,
   "id": "a1bf3cab",
   "metadata": {},
   "outputs": [
    {
     "name": "stdout",
     "output_type": "stream",
     "text": [
      "Sqrt: [2. 3. 4. 5. 6.]\n"
     ]
    }
   ],
   "source": [
    "var2=np.array([4,9,16,25,36])\n",
    "print(\"Sqrt:\",np.sqrt(var2))"
   ]
  },
  {
   "cell_type": "markdown",
   "id": "74bb8317",
   "metadata": {},
   "source": [
    "# 6)np.sin()"
   ]
  },
  {
   "cell_type": "code",
   "execution_count": 21,
   "id": "df4bf722",
   "metadata": {},
   "outputs": [
    {
     "name": "stdout",
     "output_type": "stream",
     "text": [
      "Sin [0.84147098 0.90929743 0.14112001]\n"
     ]
    }
   ],
   "source": [
    "var3=np.array([1,2,3])\n",
    "print(\"Sin\",np.sin(var3))"
   ]
  },
  {
   "cell_type": "markdown",
   "id": "0022119b",
   "metadata": {},
   "source": [
    "# 7)np.cos()"
   ]
  },
  {
   "cell_type": "code",
   "execution_count": 16,
   "id": "d643e9f5",
   "metadata": {},
   "outputs": [
    {
     "name": "stdout",
     "output_type": "stream",
     "text": [
      "Cos [ 0.54030231 -0.41614684 -0.9899925 ]\n"
     ]
    }
   ],
   "source": [
    "var3=np.array([1,2,3])\n",
    "print(\"Cos\",np.cos(var3))"
   ]
  },
  {
   "cell_type": "markdown",
   "id": "7082e8e4",
   "metadata": {},
   "source": [
    "# 8)np.cumsum()"
   ]
  },
  {
   "cell_type": "code",
   "execution_count": 20,
   "id": "5ccef487",
   "metadata": {},
   "outputs": [
    {
     "name": "stdout",
     "output_type": "stream",
     "text": [
      "Cumsum: [ 1  3  6 10 15 21]\n"
     ]
    }
   ],
   "source": [
    "var8=np.array([1,2,3,4,5,6])\n",
    "print(\"Cumsum:\",np.cumsum(var8))"
   ]
  },
  {
   "cell_type": "code",
   "execution_count": null,
   "id": "5ba9ab23",
   "metadata": {},
   "outputs": [],
   "source": []
  }
 ],
 "metadata": {
  "kernelspec": {
   "display_name": "Python 3 (ipykernel)",
   "language": "python",
   "name": "python3"
  },
  "language_info": {
   "codemirror_mode": {
    "name": "ipython",
    "version": 3
   },
   "file_extension": ".py",
   "mimetype": "text/x-python",
   "name": "python",
   "nbconvert_exporter": "python",
   "pygments_lexer": "ipython3",
   "version": "3.11.4"
  }
 },
 "nbformat": 4,
 "nbformat_minor": 5
}
