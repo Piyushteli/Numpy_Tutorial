{
 "cells": [
  {
   "cell_type": "markdown",
   "id": "4514e455",
   "metadata": {},
   "source": [
    "# Join Two Numpy Arrays.\n"
   ]
  },
  {
   "cell_type": "code",
   "execution_count": 4,
   "id": "3ffdb36e",
   "metadata": {},
   "outputs": [
    {
     "name": "stdout",
     "output_type": "stream",
     "text": [
      "[ 1  2  3  4  5  6  7  8  9 10]\n"
     ]
    }
   ],
   "source": [
    "import numpy as np \n",
    "var=np.array([1,2,3,4,5])\n",
    "var1=np.array([6,7,8,9,10])\n",
    "join=np.concatenate((var,var1))\n",
    "print(join)"
   ]
  },
  {
   "cell_type": "code",
   "execution_count": 12,
   "id": "26549827",
   "metadata": {},
   "outputs": [
    {
     "name": "stdout",
     "output_type": "stream",
     "text": [
      "[[ 1  2  3  4  5 11 12 13 14 15]\n",
      " [ 6  7  8  9 10 16 17 18 19 20]]\n"
     ]
    }
   ],
   "source": [
    "import numpy as np \n",
    "var=np.array([[1,2,3,4,5],[6,7,8,9,10]])\n",
    "var1=np.array([[11,12,13,14,15],[16,17,18,19,20]])\n",
    "join=np.concatenate((var,var1),axis=1)\n",
    "print(join)"
   ]
  },
  {
   "cell_type": "markdown",
   "id": "d561a115",
   "metadata": {},
   "source": [
    "# stack() Function"
   ]
  },
  {
   "cell_type": "code",
   "execution_count": 17,
   "id": "381460f9",
   "metadata": {},
   "outputs": [
    {
     "name": "stdout",
     "output_type": "stream",
     "text": [
      "[[ 1  2  3  4  5]\n",
      " [ 6  7  8  9 10]]\n",
      "\n",
      "[ 1  2  3  4  5  6  7  8  9 10]\n",
      "\n",
      "[[ 1  2  3  4  5]\n",
      " [ 6  7  8  9 10]]\n",
      "\n",
      "[[[ 1  6]\n",
      "  [ 2  7]\n",
      "  [ 3  8]\n",
      "  [ 4  9]\n",
      "  [ 5 10]]]\n",
      "\n"
     ]
    }
   ],
   "source": [
    "var_1=np.array([1,2,3,4,5])\n",
    "var_2=np.array([6,7,8,9,10])\n",
    "new_ar=np.stack((var_1,var_2),axis=0)\n",
    "print(new_ar)\n",
    "print()\n",
    "new_ar1=np.hstack((var_1,var_2))       #row\n",
    "print(new_ar1)\n",
    "print()\n",
    "new_ar2=np.vstack((var_1,var_2))       #column\n",
    "print(new_ar2)\n",
    "print()\n",
    "new_ar3=np.dstack((var_1,var_2))       #height\n",
    "print(new_ar3)\n",
    "print()\n",
    "\n"
   ]
  }
 ],
 "metadata": {
  "kernelspec": {
   "display_name": "Python 3 (ipykernel)",
   "language": "python",
   "name": "python3"
  },
  "language_info": {
   "codemirror_mode": {
    "name": "ipython",
    "version": 3
   },
   "file_extension": ".py",
   "mimetype": "text/x-python",
   "name": "python",
   "nbconvert_exporter": "python",
   "pygments_lexer": "ipython3",
   "version": "3.11.4"
  }
 },
 "nbformat": 4,
 "nbformat_minor": 5
}
