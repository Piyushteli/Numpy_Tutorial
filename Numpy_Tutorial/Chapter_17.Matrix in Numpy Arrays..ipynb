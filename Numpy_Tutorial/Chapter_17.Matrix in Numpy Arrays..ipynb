{
 "cells": [
  {
   "cell_type": "markdown",
   "id": "06e47505",
   "metadata": {},
   "source": [
    "# Matrix in Numpy Array."
   ]
  },
  {
   "cell_type": "code",
   "execution_count": 7,
   "id": "8bb90824",
   "metadata": {},
   "outputs": [
    {
     "name": "stdout",
     "output_type": "stream",
     "text": [
      "[[1 2 3]\n",
      " [1 2 3]]\n",
      "<class 'numpy.matrix'>\n",
      "\n",
      "[[2 4 6]\n",
      " [2 4 6]]\n"
     ]
    }
   ],
   "source": [
    "import numpy as np \n",
    "var=np.matrix([[1,2,3],[1,2,3]])\n",
    "v=np.matrix([[1,2,3],[1,2,3]])\n",
    "print(var)\n",
    "print(type(var))\n",
    "print()\n",
    "print(var+v)"
   ]
  },
  {
   "cell_type": "markdown",
   "id": "9786b155",
   "metadata": {},
   "source": [
    "# Matrix Multiplication in Numpy array."
   ]
  },
  {
   "cell_type": "code",
   "execution_count": 14,
   "id": "59f13bae",
   "metadata": {},
   "outputs": [
    {
     "name": "stdout",
     "output_type": "stream",
     "text": [
      "[[1 2]\n",
      " [1 2]]\n",
      "<class 'numpy.matrix'>\n",
      "\n",
      "[[3 6]\n",
      " [3 6]]\n",
      "\n",
      "[[3 6]\n",
      " [3 6]]\n"
     ]
    }
   ],
   "source": [
    "var=np.matrix([[1,2],[1,2]])\n",
    "v=np.matrix([[1,2,],[1,2]])\n",
    "print(var)\n",
    "print(type(var))\n",
    "print()\n",
    "print(var*v)\n",
    "print()\n",
    "print(var.dot(v))"
   ]
  },
  {
   "cell_type": "markdown",
   "id": "59747140",
   "metadata": {},
   "source": [
    "# Array in Numpy."
   ]
  },
  {
   "cell_type": "code",
   "execution_count": 8,
   "id": "45af6249",
   "metadata": {},
   "outputs": [
    {
     "name": "stdout",
     "output_type": "stream",
     "text": [
      "[[1 2 3]\n",
      " [1 2 3]]\n",
      "<class 'numpy.ndarray'>\n",
      "\n",
      "[[2 4 6]\n",
      " [2 4 6]]\n"
     ]
    }
   ],
   "source": [
    "var1=np.array([[1,2,3],[1,2,3]])\n",
    "var2=np.array([[1,2,3],[1,2,3]])\n",
    "print(var1)\n",
    "print(type(var1))\n",
    "print()\n",
    "print(var1+var2)\n"
   ]
  },
  {
   "cell_type": "markdown",
   "id": "c1cb2c31",
   "metadata": {},
   "source": [
    "# Array Multiplication"
   ]
  },
  {
   "cell_type": "code",
   "execution_count": 16,
   "id": "bddaa763",
   "metadata": {},
   "outputs": [
    {
     "name": "stdout",
     "output_type": "stream",
     "text": [
      "[[1 2]\n",
      " [1 2]]\n",
      "<class 'numpy.ndarray'>\n",
      "\n",
      "[[1 4]\n",
      " [1 4]]\n"
     ]
    }
   ],
   "source": [
    "var1=np.array([[1,2],[1,2]])\n",
    "var2=np.array([[1,2],[1,2]])\n",
    "print(var1)\n",
    "print(type(var1))\n",
    "print()\n",
    "print(var1*var2)\n"
   ]
  },
  {
   "cell_type": "code",
   "execution_count": null,
   "id": "8f718d64",
   "metadata": {},
   "outputs": [],
   "source": []
  }
 ],
 "metadata": {
  "kernelspec": {
   "display_name": "Python 3 (ipykernel)",
   "language": "python",
   "name": "python3"
  },
  "language_info": {
   "codemirror_mode": {
    "name": "ipython",
    "version": 3
   },
   "file_extension": ".py",
   "mimetype": "text/x-python",
   "name": "python",
   "nbconvert_exporter": "python",
   "pygments_lexer": "ipython3",
   "version": "3.11.4"
  }
 },
 "nbformat": 4,
 "nbformat_minor": 5
}
