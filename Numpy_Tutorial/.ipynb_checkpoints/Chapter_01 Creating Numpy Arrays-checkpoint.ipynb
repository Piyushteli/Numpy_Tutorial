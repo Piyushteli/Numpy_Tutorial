{
 "cells": [
  {
   "cell_type": "markdown",
   "id": "0855ed4f",
   "metadata": {},
   "source": [
    "# Array"
   ]
  },
  {
   "cell_type": "code",
   "execution_count": 2,
   "id": "41f5f433",
   "metadata": {},
   "outputs": [
    {
     "name": "stdout",
     "output_type": "stream",
     "text": [
      "[1 2 3 4]\n",
      "<class 'numpy.ndarray'>\n"
     ]
    }
   ],
   "source": [
    "import numpy as np\n",
    "a=np.array([1,2,3,4])\n",
    "print(a)\n",
    "print(type(a))"
   ]
  },
  {
   "cell_type": "markdown",
   "id": "8098e26e",
   "metadata": {},
   "source": [
    "# ndim Function"
   ]
  },
  {
   "cell_type": "code",
   "execution_count": 9,
   "id": "84870830",
   "metadata": {},
   "outputs": [
    {
     "name": "stdout",
     "output_type": "stream",
     "text": [
      "[1 2 3 4]\n",
      "1\n"
     ]
    }
   ],
   "source": [
    "a=np.array([1,2,3,4])\n",
    "print(a)\n",
    "print(a.ndim)"
   ]
  },
  {
   "cell_type": "markdown",
   "id": "ab10358f",
   "metadata": {},
   "source": [
    "# Types of Arrays"
   ]
  },
  {
   "cell_type": "markdown",
   "id": "170f8473",
   "metadata": {},
   "source": [
    "1)1-Dimension Array.\n",
    "\n",
    "2)2-Dimesions Array.\n",
    "\n",
    "3)3-Dimesions Array.\n",
    "\n",
    "4)Higher Dimesions Arrays."
   ]
  },
  {
   "cell_type": "markdown",
   "id": "ee51b95d",
   "metadata": {},
   "source": [
    "# 1)1-Dimension Array."
   ]
  },
  {
   "cell_type": "code",
   "execution_count": 5,
   "id": "113d42dd",
   "metadata": {},
   "outputs": [
    {
     "name": "stdout",
     "output_type": "stream",
     "text": [
      "[1 2 3 4]\n",
      "1\n"
     ]
    }
   ],
   "source": [
    "ar1=np.array([1,2,3,4])\n",
    "print(ar1)\n",
    "print(ar1.ndim)"
   ]
  },
  {
   "cell_type": "markdown",
   "id": "e3764360",
   "metadata": {},
   "source": [
    "# 2)2 -Dimensions Array."
   ]
  },
  {
   "cell_type": "code",
   "execution_count": 7,
   "id": "a8ca5d3a",
   "metadata": {},
   "outputs": [
    {
     "name": "stdout",
     "output_type": "stream",
     "text": [
      "[[1 2 3 4]\n",
      " [5 6 7 8]]\n",
      "2\n"
     ]
    }
   ],
   "source": [
    "ar2=np.array([[1,2,3,4],[5,6,7,8]])\n",
    "print(ar2)\n",
    "print(ar2.ndim)\n",
    "    "
   ]
  },
  {
   "cell_type": "markdown",
   "id": "cd7153bb",
   "metadata": {},
   "source": [
    "# 3)3-Dimensions Array."
   ]
  },
  {
   "cell_type": "code",
   "execution_count": 8,
   "id": "fb8eb358",
   "metadata": {},
   "outputs": [
    {
     "name": "stdout",
     "output_type": "stream",
     "text": [
      "[[[ 1  2  3  4]\n",
      "  [ 5  6  7  8]\n",
      "  [ 9 10 11 12]]]\n",
      "3\n"
     ]
    }
   ],
   "source": [
    "ar3=np.array([[[1,2,3,4],[5,6,7,8],[9,10,11,12]]])\n",
    "print(ar3)\n",
    "print(ar3.ndim)"
   ]
  },
  {
   "cell_type": "code",
   "execution_count": null,
   "id": "ceafb72b",
   "metadata": {},
   "outputs": [],
   "source": []
  }
 ],
 "metadata": {
  "kernelspec": {
   "display_name": "Python 3 (ipykernel)",
   "language": "python",
   "name": "python3"
  },
  "language_info": {
   "codemirror_mode": {
    "name": "ipython",
    "version": 3
   },
   "file_extension": ".py",
   "mimetype": "text/x-python",
   "name": "python",
   "nbconvert_exporter": "python",
   "pygments_lexer": "ipython3",
   "version": "3.11.4"
  }
 },
 "nbformat": 4,
 "nbformat_minor": 5
}
