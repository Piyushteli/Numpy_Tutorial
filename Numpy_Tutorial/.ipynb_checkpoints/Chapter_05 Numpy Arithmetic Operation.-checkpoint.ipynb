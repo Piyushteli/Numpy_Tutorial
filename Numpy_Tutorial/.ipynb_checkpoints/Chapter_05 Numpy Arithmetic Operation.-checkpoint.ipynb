{
 "cells": [
  {
   "cell_type": "markdown",
   "id": "c36d5d23",
   "metadata": {},
   "source": [
    "# Arithmetic Operation."
   ]
  },
  {
   "cell_type": "markdown",
   "id": "4a3b38ed",
   "metadata": {},
   "source": [
    "1)a+b             np.add(a,b)\n",
    "\n",
    "2)a-b             np.subtract(a,b)\n",
    "\n",
    "3)a*b             np.multiply(a,b)\n",
    "\n",
    "4)a/b             np.divide(a,b)\n",
    "\n",
    "5)a%b             np.mod(a,b)\n",
    "\n",
    "6)a**b            np.power(a,b)\n",
    "\n",
    "7)1/a             np.reciprocal(a)"
   ]
  },
  {
   "cell_type": "markdown",
   "id": "bdcdbd2f",
   "metadata": {},
   "source": [
    "# Addition"
   ]
  },
  {
   "cell_type": "code",
   "execution_count": 1,
   "id": "07dabe29",
   "metadata": {},
   "outputs": [
    {
     "name": "stdout",
     "output_type": "stream",
     "text": [
      "[4 5 6]\n"
     ]
    }
   ],
   "source": [
    "import numpy as np\n",
    "var1=np.array([1,2,3])\n",
    "\n",
    "var_add=var1+3\n",
    "print(var_add)"
   ]
  },
  {
   "cell_type": "code",
   "execution_count": 3,
   "id": "0b9bf9e5",
   "metadata": {},
   "outputs": [
    {
     "name": "stdout",
     "output_type": "stream",
     "text": [
      "[2 4 6]\n"
     ]
    }
   ],
   "source": [
    "var1=np.array([1,2,3])\n",
    "var21=np.array([1,2,3])\n",
    "\n",
    "var_add=var1+var21\n",
    "print(var_add)"
   ]
  },
  {
   "cell_type": "markdown",
   "id": "6c380a53",
   "metadata": {},
   "source": [
    "# Using add() Function"
   ]
  },
  {
   "cell_type": "code",
   "execution_count": 15,
   "id": "dcfc4020",
   "metadata": {},
   "outputs": [
    {
     "name": "stdout",
     "output_type": "stream",
     "text": [
      "[2 4 6]\n"
     ]
    }
   ],
   "source": [
    "var1=np.array([1,2,3])\n",
    "var21=np.array([1,2,3])\n",
    "\n",
    "var_add=np.add(var1,var21)\n",
    "print(var_add)"
   ]
  },
  {
   "cell_type": "markdown",
   "id": "99bf03af",
   "metadata": {},
   "source": [
    "# Subtration."
   ]
  },
  {
   "cell_type": "code",
   "execution_count": 5,
   "id": "7fa55ec5",
   "metadata": {},
   "outputs": [
    {
     "name": "stdout",
     "output_type": "stream",
     "text": [
      "[3 4 5]\n"
     ]
    }
   ],
   "source": [
    "var1=np.array([5,6,7])\n",
    "\n",
    "var_sub=var1-2\n",
    "print(var_sub)"
   ]
  },
  {
   "cell_type": "code",
   "execution_count": 7,
   "id": "083913c3",
   "metadata": {},
   "outputs": [
    {
     "name": "stdout",
     "output_type": "stream",
     "text": [
      "[4 4 4]\n"
     ]
    }
   ],
   "source": [
    "var11=np.array([5,6,7])\n",
    "var12=np.array([1,2,3])\n",
    "\n",
    "var_s=var11-var12\n",
    "print(var_s)"
   ]
  },
  {
   "cell_type": "markdown",
   "id": "b8c20b7c",
   "metadata": {},
   "source": [
    "# Using subtract() Function"
   ]
  },
  {
   "cell_type": "code",
   "execution_count": 18,
   "id": "8b9e72f4",
   "metadata": {},
   "outputs": [
    {
     "name": "stdout",
     "output_type": "stream",
     "text": [
      "[4 7 5]\n"
     ]
    }
   ],
   "source": [
    "var1=np.array([5,9,8])\n",
    "var21=np.array([1,2,3])\n",
    "\n",
    "var_sub=np.subtract(var1,var21)\n",
    "print(var_sub)"
   ]
  },
  {
   "cell_type": "markdown",
   "id": "76bdd131",
   "metadata": {},
   "source": [
    "# Multiplication"
   ]
  },
  {
   "cell_type": "code",
   "execution_count": 8,
   "id": "260c931e",
   "metadata": {},
   "outputs": [
    {
     "name": "stdout",
     "output_type": "stream",
     "text": [
      "[10 12 14]\n"
     ]
    }
   ],
   "source": [
    "var1=np.array([5,6,7])\n",
    "\n",
    "var_mul=var1*2\n",
    "print(var_mul)"
   ]
  },
  {
   "cell_type": "code",
   "execution_count": 9,
   "id": "7d2b4b3d",
   "metadata": {},
   "outputs": [
    {
     "name": "stdout",
     "output_type": "stream",
     "text": [
      "[ 5 12 21]\n"
     ]
    }
   ],
   "source": [
    "var11=np.array([5,6,7])\n",
    "var12=np.array([1,2,3])\n",
    "\n",
    "var_m=var11*var12\n",
    "print(var_m)"
   ]
  },
  {
   "cell_type": "code",
   "execution_count": 19,
   "id": "5679b8e2",
   "metadata": {},
   "outputs": [
    {
     "name": "stdout",
     "output_type": "stream",
     "text": [
      "[1 4 9]\n"
     ]
    }
   ],
   "source": [
    "var1=np.array([1,2,3])\n",
    "var21=np.array([1,2,3])\n",
    "\n",
    "var_multiply=np.multiply(var1,var21)\n",
    "print(var_multiply)"
   ]
  },
  {
   "cell_type": "markdown",
   "id": "434fec23",
   "metadata": {},
   "source": [
    "# reciprocal"
   ]
  },
  {
   "cell_type": "code",
   "execution_count": 12,
   "id": "ca200e37",
   "metadata": {},
   "outputs": [
    {
     "name": "stdout",
     "output_type": "stream",
     "text": [
      "[1 0 0 0]\n"
     ]
    }
   ],
   "source": [
    "var_9=np.array([1,2,3,4])\n",
    "print(np.reciprocal(var_9))"
   ]
  },
  {
   "cell_type": "markdown",
   "id": "1addb9b0",
   "metadata": {},
   "source": [
    "# addition of 2-D Arrays"
   ]
  },
  {
   "cell_type": "code",
   "execution_count": 21,
   "id": "2af5b0c7",
   "metadata": {},
   "outputs": [
    {
     "name": "stdout",
     "output_type": "stream",
     "text": [
      "[[ 2  4  6  8 10]\n",
      " [12 14 16 18 20]]\n"
     ]
    }
   ],
   "source": [
    "var5=np.array([[1,2,3,4,5],[6,7,8,9,10]])\n",
    "var6=np.array([[1,2,3,4,5],[6,7,8,9,10]])\n",
    "\n",
    "var_add=np.add(var5,var6)\n",
    "print(var_add)\n",
    "\n"
   ]
  },
  {
   "cell_type": "code",
   "execution_count": null,
   "id": "e46500e5",
   "metadata": {},
   "outputs": [],
   "source": []
  }
 ],
 "metadata": {
  "kernelspec": {
   "display_name": "Python 3 (ipykernel)",
   "language": "python",
   "name": "python3"
  },
  "language_info": {
   "codemirror_mode": {
    "name": "ipython",
    "version": 3
   },
   "file_extension": ".py",
   "mimetype": "text/x-python",
   "name": "python",
   "nbconvert_exporter": "python",
   "pygments_lexer": "ipython3",
   "version": "3.11.4"
  }
 },
 "nbformat": 4,
 "nbformat_minor": 5
}
